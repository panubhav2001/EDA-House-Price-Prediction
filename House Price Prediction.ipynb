{
 "cells": [
  {
   "cell_type": "code",
   "execution_count": 1,
   "id": "415f8b61",
   "metadata": {},
   "outputs": [],
   "source": [
    "import numpy as np\n",
    "import pandas as pd\n",
    "import matplotlib.pyplot as plt\n",
    "import seaborn as sns\n",
    "%matplotlib inline"
   ]
  },
  {
   "cell_type": "code",
   "execution_count": 2,
   "id": "3ab47f2f",
   "metadata": {},
   "outputs": [],
   "source": [
    "df = pd.read_csv('Housing.csv')"
   ]
  },
  {
   "cell_type": "code",
   "execution_count": 3,
   "id": "20cbc026",
   "metadata": {},
   "outputs": [
    {
     "data": {
      "text/html": [
       "<div>\n",
       "<style scoped>\n",
       "    .dataframe tbody tr th:only-of-type {\n",
       "        vertical-align: middle;\n",
       "    }\n",
       "\n",
       "    .dataframe tbody tr th {\n",
       "        vertical-align: top;\n",
       "    }\n",
       "\n",
       "    .dataframe thead th {\n",
       "        text-align: right;\n",
       "    }\n",
       "</style>\n",
       "<table border=\"1\" class=\"dataframe\">\n",
       "  <thead>\n",
       "    <tr style=\"text-align: right;\">\n",
       "      <th></th>\n",
       "      <th>price</th>\n",
       "      <th>area</th>\n",
       "      <th>bedrooms</th>\n",
       "      <th>bathrooms</th>\n",
       "      <th>stories</th>\n",
       "      <th>mainroad</th>\n",
       "      <th>guestroom</th>\n",
       "      <th>basement</th>\n",
       "      <th>hotwaterheating</th>\n",
       "      <th>airconditioning</th>\n",
       "      <th>parking</th>\n",
       "      <th>prefarea</th>\n",
       "      <th>furnishing status</th>\n",
       "    </tr>\n",
       "  </thead>\n",
       "  <tbody>\n",
       "    <tr>\n",
       "      <th>0</th>\n",
       "      <td>13300000</td>\n",
       "      <td>7420</td>\n",
       "      <td>4</td>\n",
       "      <td>2</td>\n",
       "      <td>3</td>\n",
       "      <td>yes</td>\n",
       "      <td>no</td>\n",
       "      <td>no</td>\n",
       "      <td>no</td>\n",
       "      <td>yes</td>\n",
       "      <td>2</td>\n",
       "      <td>yes</td>\n",
       "      <td>furnished</td>\n",
       "    </tr>\n",
       "    <tr>\n",
       "      <th>1</th>\n",
       "      <td>12250000</td>\n",
       "      <td>8960</td>\n",
       "      <td>4</td>\n",
       "      <td>4</td>\n",
       "      <td>4</td>\n",
       "      <td>yes</td>\n",
       "      <td>no</td>\n",
       "      <td>no</td>\n",
       "      <td>no</td>\n",
       "      <td>yes</td>\n",
       "      <td>3</td>\n",
       "      <td>no</td>\n",
       "      <td>furnished</td>\n",
       "    </tr>\n",
       "    <tr>\n",
       "      <th>2</th>\n",
       "      <td>12250000</td>\n",
       "      <td>9960</td>\n",
       "      <td>3</td>\n",
       "      <td>2</td>\n",
       "      <td>2</td>\n",
       "      <td>yes</td>\n",
       "      <td>no</td>\n",
       "      <td>yes</td>\n",
       "      <td>no</td>\n",
       "      <td>no</td>\n",
       "      <td>2</td>\n",
       "      <td>yes</td>\n",
       "      <td>semi-furnished</td>\n",
       "    </tr>\n",
       "    <tr>\n",
       "      <th>3</th>\n",
       "      <td>12215000</td>\n",
       "      <td>7500</td>\n",
       "      <td>4</td>\n",
       "      <td>2</td>\n",
       "      <td>2</td>\n",
       "      <td>yes</td>\n",
       "      <td>no</td>\n",
       "      <td>yes</td>\n",
       "      <td>no</td>\n",
       "      <td>yes</td>\n",
       "      <td>3</td>\n",
       "      <td>yes</td>\n",
       "      <td>furnished</td>\n",
       "    </tr>\n",
       "    <tr>\n",
       "      <th>4</th>\n",
       "      <td>11410000</td>\n",
       "      <td>7420</td>\n",
       "      <td>4</td>\n",
       "      <td>1</td>\n",
       "      <td>2</td>\n",
       "      <td>yes</td>\n",
       "      <td>yes</td>\n",
       "      <td>yes</td>\n",
       "      <td>no</td>\n",
       "      <td>yes</td>\n",
       "      <td>2</td>\n",
       "      <td>no</td>\n",
       "      <td>furnished</td>\n",
       "    </tr>\n",
       "  </tbody>\n",
       "</table>\n",
       "</div>"
      ],
      "text/plain": [
       "      price  area  bedrooms  bathrooms  stories mainroad guestroom basement  \\\n",
       "0  13300000  7420         4          2        3      yes        no       no   \n",
       "1  12250000  8960         4          4        4      yes        no       no   \n",
       "2  12250000  9960         3          2        2      yes        no      yes   \n",
       "3  12215000  7500         4          2        2      yes        no      yes   \n",
       "4  11410000  7420         4          1        2      yes       yes      yes   \n",
       "\n",
       "  hotwaterheating airconditioning  parking prefarea furnishing status  \n",
       "0              no             yes        2      yes         furnished  \n",
       "1              no             yes        3       no         furnished  \n",
       "2              no              no        2      yes    semi-furnished  \n",
       "3              no             yes        3      yes         furnished  \n",
       "4              no             yes        2       no         furnished  "
      ]
     },
     "execution_count": 3,
     "metadata": {},
     "output_type": "execute_result"
    }
   ],
   "source": [
    "df.head() #Lets check what the data looks like"
   ]
  },
  {
   "cell_type": "code",
   "execution_count": 4,
   "id": "4d113592",
   "metadata": {
    "scrolled": true
   },
   "outputs": [
    {
     "name": "stdout",
     "output_type": "stream",
     "text": [
      "<class 'pandas.core.frame.DataFrame'>\n",
      "RangeIndex: 545 entries, 0 to 544\n",
      "Data columns (total 13 columns):\n",
      " #   Column             Non-Null Count  Dtype \n",
      "---  ------             --------------  ----- \n",
      " 0   price              545 non-null    int64 \n",
      " 1   area               545 non-null    int64 \n",
      " 2   bedrooms           545 non-null    int64 \n",
      " 3   bathrooms          545 non-null    int64 \n",
      " 4   stories            545 non-null    int64 \n",
      " 5   mainroad           545 non-null    object\n",
      " 6   guestroom          545 non-null    object\n",
      " 7   basement           545 non-null    object\n",
      " 8   hotwaterheating    545 non-null    object\n",
      " 9   airconditioning    545 non-null    object\n",
      " 10  parking            545 non-null    int64 \n",
      " 11  prefarea           545 non-null    object\n",
      " 12  furnishing status  545 non-null    object\n",
      "dtypes: int64(6), object(7)\n",
      "memory usage: 55.5+ KB\n"
     ]
    }
   ],
   "source": [
    "df.info() #Lets get more info on each column and their data types "
   ]
  },
  {
   "cell_type": "code",
   "execution_count": 5,
   "id": "0c177bae",
   "metadata": {},
   "outputs": [
    {
     "data": {
      "text/plain": [
       "price                0\n",
       "area                 0\n",
       "bedrooms             0\n",
       "bathrooms            0\n",
       "stories              0\n",
       "mainroad             0\n",
       "guestroom            0\n",
       "basement             0\n",
       "hotwaterheating      0\n",
       "airconditioning      0\n",
       "parking              0\n",
       "prefarea             0\n",
       "furnishing status    0\n",
       "dtype: int64"
      ]
     },
     "execution_count": 5,
     "metadata": {},
     "output_type": "execute_result"
    }
   ],
   "source": [
    "df.isnull().sum() #Lets check the presence of null values and duplicate rows."
   ]
  },
  {
   "cell_type": "code",
   "execution_count": 6,
   "id": "a4c53d61",
   "metadata": {},
   "outputs": [
    {
     "data": {
      "text/plain": [
       "0"
      ]
     },
     "execution_count": 6,
     "metadata": {},
     "output_type": "execute_result"
    }
   ],
   "source": [
    "df.duplicated().sum()"
   ]
  },
  {
   "cell_type": "raw",
   "id": "ba1510dd",
   "metadata": {},
   "source": [
    "Observation: The data seems to be pretty clean and is free of null values and duplicate rows. So no need to treat missing values."
   ]
  },
  {
   "cell_type": "code",
   "execution_count": 7,
   "id": "150c7379",
   "metadata": {
    "scrolled": true
   },
   "outputs": [
    {
     "data": {
      "text/html": [
       "<div>\n",
       "<style scoped>\n",
       "    .dataframe tbody tr th:only-of-type {\n",
       "        vertical-align: middle;\n",
       "    }\n",
       "\n",
       "    .dataframe tbody tr th {\n",
       "        vertical-align: top;\n",
       "    }\n",
       "\n",
       "    .dataframe thead th {\n",
       "        text-align: right;\n",
       "    }\n",
       "</style>\n",
       "<table border=\"1\" class=\"dataframe\">\n",
       "  <thead>\n",
       "    <tr style=\"text-align: right;\">\n",
       "      <th></th>\n",
       "      <th>price</th>\n",
       "      <th>area</th>\n",
       "      <th>bedrooms</th>\n",
       "      <th>bathrooms</th>\n",
       "      <th>stories</th>\n",
       "      <th>parking</th>\n",
       "    </tr>\n",
       "  </thead>\n",
       "  <tbody>\n",
       "    <tr>\n",
       "      <th>count</th>\n",
       "      <td>5.450000e+02</td>\n",
       "      <td>545.000000</td>\n",
       "      <td>545.000000</td>\n",
       "      <td>545.000000</td>\n",
       "      <td>545.000000</td>\n",
       "      <td>545.000000</td>\n",
       "    </tr>\n",
       "    <tr>\n",
       "      <th>mean</th>\n",
       "      <td>4.766729e+06</td>\n",
       "      <td>5150.541284</td>\n",
       "      <td>2.965138</td>\n",
       "      <td>1.286239</td>\n",
       "      <td>1.805505</td>\n",
       "      <td>0.693578</td>\n",
       "    </tr>\n",
       "    <tr>\n",
       "      <th>std</th>\n",
       "      <td>1.870440e+06</td>\n",
       "      <td>2170.141023</td>\n",
       "      <td>0.738064</td>\n",
       "      <td>0.502470</td>\n",
       "      <td>0.867492</td>\n",
       "      <td>0.861586</td>\n",
       "    </tr>\n",
       "    <tr>\n",
       "      <th>min</th>\n",
       "      <td>1.750000e+06</td>\n",
       "      <td>1650.000000</td>\n",
       "      <td>1.000000</td>\n",
       "      <td>1.000000</td>\n",
       "      <td>1.000000</td>\n",
       "      <td>0.000000</td>\n",
       "    </tr>\n",
       "    <tr>\n",
       "      <th>25%</th>\n",
       "      <td>3.430000e+06</td>\n",
       "      <td>3600.000000</td>\n",
       "      <td>2.000000</td>\n",
       "      <td>1.000000</td>\n",
       "      <td>1.000000</td>\n",
       "      <td>0.000000</td>\n",
       "    </tr>\n",
       "    <tr>\n",
       "      <th>50%</th>\n",
       "      <td>4.340000e+06</td>\n",
       "      <td>4600.000000</td>\n",
       "      <td>3.000000</td>\n",
       "      <td>1.000000</td>\n",
       "      <td>2.000000</td>\n",
       "      <td>0.000000</td>\n",
       "    </tr>\n",
       "    <tr>\n",
       "      <th>75%</th>\n",
       "      <td>5.740000e+06</td>\n",
       "      <td>6360.000000</td>\n",
       "      <td>3.000000</td>\n",
       "      <td>2.000000</td>\n",
       "      <td>2.000000</td>\n",
       "      <td>1.000000</td>\n",
       "    </tr>\n",
       "    <tr>\n",
       "      <th>max</th>\n",
       "      <td>1.330000e+07</td>\n",
       "      <td>16200.000000</td>\n",
       "      <td>6.000000</td>\n",
       "      <td>4.000000</td>\n",
       "      <td>4.000000</td>\n",
       "      <td>3.000000</td>\n",
       "    </tr>\n",
       "  </tbody>\n",
       "</table>\n",
       "</div>"
      ],
      "text/plain": [
       "              price          area    bedrooms   bathrooms     stories  \\\n",
       "count  5.450000e+02    545.000000  545.000000  545.000000  545.000000   \n",
       "mean   4.766729e+06   5150.541284    2.965138    1.286239    1.805505   \n",
       "std    1.870440e+06   2170.141023    0.738064    0.502470    0.867492   \n",
       "min    1.750000e+06   1650.000000    1.000000    1.000000    1.000000   \n",
       "25%    3.430000e+06   3600.000000    2.000000    1.000000    1.000000   \n",
       "50%    4.340000e+06   4600.000000    3.000000    1.000000    2.000000   \n",
       "75%    5.740000e+06   6360.000000    3.000000    2.000000    2.000000   \n",
       "max    1.330000e+07  16200.000000    6.000000    4.000000    4.000000   \n",
       "\n",
       "          parking  \n",
       "count  545.000000  \n",
       "mean     0.693578  \n",
       "std      0.861586  \n",
       "min      0.000000  \n",
       "25%      0.000000  \n",
       "50%      0.000000  \n",
       "75%      1.000000  \n",
       "max      3.000000  "
      ]
     },
     "execution_count": 7,
     "metadata": {},
     "output_type": "execute_result"
    }
   ],
   "source": [
    "df.describe() #Lets get some insights using descriptive stats"
   ]
  },
  {
   "cell_type": "raw",
   "id": "0e2807dc",
   "metadata": {},
   "source": [
    "Observation: These stats here, indicate that the data is mostly homogenous with scope for nominal no of outliers. \n",
    "Standard deviation of almost all the rows seems to be pretty normal. The mean and median are also pretty close in magnitude.\n",
    "Inference: The data is somewhat normally distributed and symmetrical which can be excellent for prediction."
   ]
  },
  {
   "cell_type": "code",
   "execution_count": 8,
   "id": "76dc1c4c",
   "metadata": {},
   "outputs": [
    {
     "data": {
      "text/html": [
       "<div>\n",
       "<style scoped>\n",
       "    .dataframe tbody tr th:only-of-type {\n",
       "        vertical-align: middle;\n",
       "    }\n",
       "\n",
       "    .dataframe tbody tr th {\n",
       "        vertical-align: top;\n",
       "    }\n",
       "\n",
       "    .dataframe thead th {\n",
       "        text-align: right;\n",
       "    }\n",
       "</style>\n",
       "<table border=\"1\" class=\"dataframe\">\n",
       "  <thead>\n",
       "    <tr style=\"text-align: right;\">\n",
       "      <th></th>\n",
       "      <th>price</th>\n",
       "      <th>area</th>\n",
       "      <th>bedrooms</th>\n",
       "      <th>bathrooms</th>\n",
       "      <th>stories</th>\n",
       "      <th>parking</th>\n",
       "    </tr>\n",
       "  </thead>\n",
       "  <tbody>\n",
       "    <tr>\n",
       "      <th>price</th>\n",
       "      <td>1.000000</td>\n",
       "      <td>0.535997</td>\n",
       "      <td>0.366494</td>\n",
       "      <td>0.517545</td>\n",
       "      <td>0.420712</td>\n",
       "      <td>0.384394</td>\n",
       "    </tr>\n",
       "    <tr>\n",
       "      <th>area</th>\n",
       "      <td>0.535997</td>\n",
       "      <td>1.000000</td>\n",
       "      <td>0.151858</td>\n",
       "      <td>0.193820</td>\n",
       "      <td>0.083996</td>\n",
       "      <td>0.352980</td>\n",
       "    </tr>\n",
       "    <tr>\n",
       "      <th>bedrooms</th>\n",
       "      <td>0.366494</td>\n",
       "      <td>0.151858</td>\n",
       "      <td>1.000000</td>\n",
       "      <td>0.373930</td>\n",
       "      <td>0.408564</td>\n",
       "      <td>0.139270</td>\n",
       "    </tr>\n",
       "    <tr>\n",
       "      <th>bathrooms</th>\n",
       "      <td>0.517545</td>\n",
       "      <td>0.193820</td>\n",
       "      <td>0.373930</td>\n",
       "      <td>1.000000</td>\n",
       "      <td>0.326165</td>\n",
       "      <td>0.177496</td>\n",
       "    </tr>\n",
       "    <tr>\n",
       "      <th>stories</th>\n",
       "      <td>0.420712</td>\n",
       "      <td>0.083996</td>\n",
       "      <td>0.408564</td>\n",
       "      <td>0.326165</td>\n",
       "      <td>1.000000</td>\n",
       "      <td>0.045547</td>\n",
       "    </tr>\n",
       "    <tr>\n",
       "      <th>parking</th>\n",
       "      <td>0.384394</td>\n",
       "      <td>0.352980</td>\n",
       "      <td>0.139270</td>\n",
       "      <td>0.177496</td>\n",
       "      <td>0.045547</td>\n",
       "      <td>1.000000</td>\n",
       "    </tr>\n",
       "  </tbody>\n",
       "</table>\n",
       "</div>"
      ],
      "text/plain": [
       "              price      area  bedrooms  bathrooms   stories   parking\n",
       "price      1.000000  0.535997  0.366494   0.517545  0.420712  0.384394\n",
       "area       0.535997  1.000000  0.151858   0.193820  0.083996  0.352980\n",
       "bedrooms   0.366494  0.151858  1.000000   0.373930  0.408564  0.139270\n",
       "bathrooms  0.517545  0.193820  0.373930   1.000000  0.326165  0.177496\n",
       "stories    0.420712  0.083996  0.408564   0.326165  1.000000  0.045547\n",
       "parking    0.384394  0.352980  0.139270   0.177496  0.045547  1.000000"
      ]
     },
     "execution_count": 8,
     "metadata": {},
     "output_type": "execute_result"
    }
   ],
   "source": [
    "df.select_dtypes(include = ['int64']).corr() #Lets check how all the numeric columns are correlated"
   ]
  },
  {
   "cell_type": "code",
   "execution_count": 9,
   "id": "4be5320f",
   "metadata": {
    "scrolled": false
   },
   "outputs": [
    {
     "data": {
      "text/plain": [
       "<Axes: >"
      ]
     },
     "execution_count": 9,
     "metadata": {},
     "output_type": "execute_result"
    },
    {
     "data": {
      "image/png": "[encoded data removed]",
      "text/plain": [
       "<Figure size 640x480 with 2 Axes>"
      ]
     },
     "metadata": {},
     "output_type": "display_data"
    }
   ],
   "source": [
    "sns.heatmap(df.select_dtypes(include = ['int64']).corr(), cmap='viridis',annot=True)"
   ]
  },
  {
   "cell_type": "raw",
   "id": "9ede60b0",
   "metadata": {},
   "source": [
    "Observation: \n",
    "1. Price & area show moderate correlation\n",
    "2. Price & bathroom show moderate correlation\n",
    "3. Price & stories show moderate correlation\n",
    "Rest all columns seems to be weakly correlated, hence Bi-variate/Multi-variate analysis can be done for them for more insights.\n",
    "Hypothesis: Price may be driven by the area, no. of bathrooms & no. of stories."
   ]
  },
  {
   "cell_type": "code",
   "execution_count": 10,
   "id": "f3333a8f",
   "metadata": {
    "scrolled": false
   },
   "outputs": [
    {
     "data": {
      "image/png": "[encoded data removed]",
      "text/plain": [
       "<Figure size 1000x500 with 6 Axes>"
      ]
     },
     "metadata": {},
     "output_type": "display_data"
    }
   ],
   "source": [
    "#Lets explore Uni-variate analysis of the numeric columns\n",
    "fig, axs = plt.subplots(2,3, figsize=(10,5))\n",
    "plt1 = sns.boxplot(df['price'], ax=axs[0,0])\n",
    "plt1.set_ylabel('Price')\n",
    "plt2 = sns.boxplot(df['area'], ax=axs[0,1])\n",
    "plt2.set_ylabel('Area')\n",
    "plt3 = sns.boxplot(df['bedrooms'], ax=axs[0,2])\n",
    "plt3.set_ylabel('Bedrooms')\n",
    "plt4 = sns.boxplot(df['bathrooms'], ax=axs[1,0])\n",
    "plt4.set_ylabel('Bathrooms')\n",
    "plt5 = sns.boxplot(df['stories'], ax=axs[1,1])\n",
    "plt5.set_ylabel('Stories')\n",
    "plt6 = sns.boxplot(df['parking'], ax=axs[1,2])\n",
    "plt6.set_ylabel('Parking')\n",
    "\n",
    "plt.tight_layout()"
   ]
  },
  {
   "cell_type": "raw",
   "id": "1bc6a15b",
   "metadata": {},
   "source": [
    "Observation: Area & Price has some outliers. Lets see if removing those would be feasible for the model."
   ]
  },
  {
   "cell_type": "code",
   "execution_count": 11,
   "id": "15baed60",
   "metadata": {
    "scrolled": false
   },
   "outputs": [
    {
     "data": {
      "text/plain": [
       "<Axes: xlabel='airconditioning', ylabel='bedrooms'>"
      ]
     },
     "execution_count": 11,
     "metadata": {},
     "output_type": "execute_result"
    },
    {
     "data": {
      "image/png": "[encoded data removed]",
      "text/plain": [
       "<Figure size 640x480 with 1 Axes>"
      ]
     },
     "metadata": {},
     "output_type": "display_data"
    }
   ],
   "source": [
    "#Lets explore multivariate plots combing numeric and categorical columns.\n",
    "#Based on the hypothesis that air conditioning may be dependent on the number of rooms & furnishing type.\n",
    "sns.barplot(x = df['airconditioning'],y = df['bedrooms'], hue = df['furnishing status'])"
   ]
  },
  {
   "cell_type": "raw",
   "id": "2a50c6b7",
   "metadata": {},
   "source": [
    "Observation: No. of Bedrooms offered is more incase of furnished houses on the type of furnishing and Air conditioning"
   ]
  },
  {
   "cell_type": "code",
   "execution_count": 12,
   "id": "1463cd93",
   "metadata": {},
   "outputs": [
    {
     "data": {
      "text/plain": [
       "<Axes: xlabel='hotwaterheating', ylabel='bathrooms'>"
      ]
     },
     "execution_count": 12,
     "metadata": {},
     "output_type": "execute_result"
    },
    {
     "data": {
      "image/png": "[encoded data removed]",
      "text/plain": [
       "<Figure size 640x480 with 1 Axes>"
      ]
     },
     "metadata": {},
     "output_type": "display_data"
    }
   ],
   "source": [
    "sns.barplot(x = df['hotwaterheating'], y = df['bathrooms'], hue = df['furnishing status'])"
   ]
  },
  {
   "cell_type": "raw",
   "id": "3bdbe8ab",
   "metadata": {},
   "source": [
    "Observation: No of bathrooms offered is more where the houses have hot water heaters and where houses are furnished."
   ]
  },
  {
   "cell_type": "code",
   "execution_count": 13,
   "id": "586eebbc",
   "metadata": {
    "scrolled": false
   },
   "outputs": [
    {
     "data": {
      "text/plain": [
       "{'whiskers': [<matplotlib.lines.Line2D at 0x266d4f97090>,\n",
       "  <matplotlib.lines.Line2D at 0x266d4f97c90>],\n",
       " 'caps': [<matplotlib.lines.Line2D at 0x266d4c9f190>,\n",
       "  <matplotlib.lines.Line2D at 0x266d4f9d150>],\n",
       " 'boxes': [<matplotlib.lines.Line2D at 0x266d4f96310>],\n",
       " 'medians': [<matplotlib.lines.Line2D at 0x266d4f9dc90>],\n",
       " 'fliers': [<matplotlib.lines.Line2D at 0x266d48c6190>],\n",
       " 'means': []}"
      ]
     },
     "execution_count": 13,
     "metadata": {},
     "output_type": "execute_result"
    },
    {
     "data": {
      "image/png": "[encoded data removed]",
      "text/plain": [
       "<Figure size 640x480 with 1 Axes>"
      ]
     },
     "metadata": {},
     "output_type": "display_data"
    }
   ],
   "source": [
    "#Lets filter outliers of price column\n",
    "Q1 = df.price.quantile(0.25)\n",
    "Q3 = df.price.quantile(0.75)\n",
    "IQR = Q3 - Q1\n",
    "df = df[(df.price >= Q1 - 1.5*IQR) & (df.price <= Q3 + 1.5*IQR)]\n",
    "\n",
    "plt.boxplot(df.price)"
   ]
  },
  {
   "cell_type": "code",
   "execution_count": 14,
   "id": "2c17cb02",
   "metadata": {
    "scrolled": false
   },
   "outputs": [
    {
     "data": {
      "text/plain": [
       "{'whiskers': [<matplotlib.lines.Line2D at 0x266d500d850>,\n",
       "  <matplotlib.lines.Line2D at 0x266d500e510>],\n",
       " 'caps': [<matplotlib.lines.Line2D at 0x266d4fd7190>,\n",
       "  <matplotlib.lines.Line2D at 0x266d500fad0>],\n",
       " 'boxes': [<matplotlib.lines.Line2D at 0x266d500cc50>],\n",
       " 'medians': [<matplotlib.lines.Line2D at 0x266d5010610>],\n",
       " 'fliers': [<matplotlib.lines.Line2D at 0x266d4fbf190>],\n",
       " 'means': []}"
      ]
     },
     "execution_count": 14,
     "metadata": {},
     "output_type": "execute_result"
    },
    {
     "data": {
      "image/png": "[encoded data removed]",
      "text/plain": [
       "<Figure size 640x480 with 1 Axes>"
      ]
     },
     "metadata": {},
     "output_type": "display_data"
    }
   ],
   "source": [
    "#Lets filter outliers of area column\n",
    "Q1 = df.area.quantile(0.25)\n",
    "Q3 = df.area.quantile(0.75)\n",
    "IQR = Q3 - Q1\n",
    "df = df[(df.area >= Q1 - 1.5*IQR) & (df.area <= Q3 + 1.5*IQR)]\n",
    "plt.boxplot(df.area)"
   ]
  },
  {
   "cell_type": "code",
   "execution_count": 15,
   "id": "0c48a3ea",
   "metadata": {
    "scrolled": true
   },
   "outputs": [
    {
     "data": {
      "text/plain": [
       "(517, 13)"
      ]
     },
     "execution_count": 15,
     "metadata": {},
     "output_type": "execute_result"
    }
   ],
   "source": [
    "#Lets check the shape of the Data Set after removal of all the outliers\n",
    "df.shape"
   ]
  },
  {
   "cell_type": "raw",
   "id": "18aedd47",
   "metadata": {},
   "source": [
    "Observation: The percentage of rows removed is less than 6% but outliers is still present. Removing outliers one more time could be a good decision. Lets try and do it."
   ]
  },
  {
   "cell_type": "code",
   "execution_count": 16,
   "id": "a9a64333",
   "metadata": {
    "scrolled": false
   },
   "outputs": [
    {
     "data": {
      "text/plain": [
       "{'whiskers': [<matplotlib.lines.Line2D at 0x266d5067350>,\n",
       "  <matplotlib.lines.Line2D at 0x266d5067f50>],\n",
       " 'caps': [<matplotlib.lines.Line2D at 0x266d504f190>,\n",
       "  <matplotlib.lines.Line2D at 0x266d5079510>],\n",
       " 'boxes': [<matplotlib.lines.Line2D at 0x266d5066810>],\n",
       " 'medians': [<matplotlib.lines.Line2D at 0x266d507a090>],\n",
       " 'fliers': [<matplotlib.lines.Line2D at 0x266d507ab10>],\n",
       " 'means': []}"
      ]
     },
     "execution_count": 16,
     "metadata": {},
     "output_type": "execute_result"
    },
    {
     "data": {
      "image/png": "[encoded data removed]",
      "text/plain": [
       "<Figure size 640x480 with 1 Axes>"
      ]
     },
     "metadata": {},
     "output_type": "display_data"
    }
   ],
   "source": [
    "Q1 = df.price.quantile(0.25)\n",
    "Q3 = df.price.quantile(0.75)\n",
    "IQR = Q3 - Q1\n",
    "df = df[(df.price >= Q1 - 1.5*IQR) & (df.price <= Q3 + 1.5*IQR)]\n",
    "\n",
    "plt.boxplot(df.price)"
   ]
  },
  {
   "cell_type": "code",
   "execution_count": 17,
   "id": "b8fa9c2f",
   "metadata": {
    "scrolled": false
   },
   "outputs": [
    {
     "data": {
      "text/plain": [
       "{'whiskers': [<matplotlib.lines.Line2D at 0x266d50e9f10>,\n",
       "  <matplotlib.lines.Line2D at 0x266d50eaa10>],\n",
       " 'caps': [<matplotlib.lines.Line2D at 0x266d50eb510>,\n",
       "  <matplotlib.lines.Line2D at 0x266d50ebf50>],\n",
       " 'boxes': [<matplotlib.lines.Line2D at 0x266d50e9350>],\n",
       " 'medians': [<matplotlib.lines.Line2D at 0x266d50f0a90>],\n",
       " 'fliers': [<matplotlib.lines.Line2D at 0x266d50f1490>],\n",
       " 'means': []}"
      ]
     },
     "execution_count": 17,
     "metadata": {},
     "output_type": "execute_result"
    },
    {
     "data": {
      "image/png": "[encoded data removed]",
      "text/plain": [
       "<Figure size 640x480 with 1 Axes>"
      ]
     },
     "metadata": {},
     "output_type": "display_data"
    }
   ],
   "source": [
    "Q1 = df.area.quantile(0.25)\n",
    "Q3 = df.area.quantile(0.75)\n",
    "IQR = Q3 - Q1\n",
    "df = df[(df.area >= Q1 - 1.5*IQR) & (df.area <= Q3 + 1.5*IQR)]\n",
    "plt.boxplot(df.area)"
   ]
  },
  {
   "cell_type": "code",
   "execution_count": 18,
   "id": "cfd08624",
   "metadata": {},
   "outputs": [
    {
     "data": {
      "text/plain": [
       "(506, 13)"
      ]
     },
     "execution_count": 18,
     "metadata": {},
     "output_type": "execute_result"
    }
   ],
   "source": [
    "df.shape"
   ]
  },
  {
   "cell_type": "raw",
   "id": "b7c94443",
   "metadata": {},
   "source": [
    "Observation: Now the data is almost free of outliers and percentage of rows removed is just above 7%, which is pretty acceptable. Now lets go ahead with Feature Engineering."
   ]
  },
  {
   "cell_type": "code",
   "execution_count": 19,
   "id": "66d7dc1a",
   "metadata": {},
   "outputs": [],
   "source": [
    "#Lets now encode the categorical columns and concat with original data"
   ]
  },
  {
   "cell_type": "code",
   "execution_count": 20,
   "id": "6cca6849",
   "metadata": {},
   "outputs": [
    {
     "data": {
      "text/plain": [
       "(506, 14)"
      ]
     },
     "execution_count": 20,
     "metadata": {},
     "output_type": "execute_result"
    }
   ],
   "source": [
    "cat_enc = pd.get_dummies(df[['furnishing status','mainroad', 'guestroom', 'basement', 'hotwaterheating', 'airconditioning', 'prefarea']], drop_first = True).astype('int64')\n",
    "df1 = df.drop(['furnishing status','mainroad', 'guestroom', 'basement', 'hotwaterheating', 'airconditioning', 'prefarea'], axis = 1)\n",
    "df_final = pd.concat([df1,cat_enc], axis = 1)\n",
    "df_final.head()\n",
    "df_final.shape"
   ]
  },
  {
   "cell_type": "code",
   "execution_count": 21,
   "id": "7032171f",
   "metadata": {},
   "outputs": [
    {
     "data": {
      "text/html": [
       "<div>\n",
       "<style scoped>\n",
       "    .dataframe tbody tr th:only-of-type {\n",
       "        vertical-align: middle;\n",
       "    }\n",
       "\n",
       "    .dataframe tbody tr th {\n",
       "        vertical-align: top;\n",
       "    }\n",
       "\n",
       "    .dataframe thead th {\n",
       "        text-align: right;\n",
       "    }\n",
       "</style>\n",
       "<table border=\"1\" class=\"dataframe\">\n",
       "  <thead>\n",
       "    <tr style=\"text-align: right;\">\n",
       "      <th></th>\n",
       "      <th>furnishing status_semi-furnished</th>\n",
       "      <th>furnishing status_unfurnished</th>\n",
       "      <th>mainroad_yes</th>\n",
       "      <th>guestroom_yes</th>\n",
       "      <th>basement_yes</th>\n",
       "      <th>hotwaterheating_yes</th>\n",
       "      <th>airconditioning_yes</th>\n",
       "      <th>prefarea_yes</th>\n",
       "    </tr>\n",
       "  </thead>\n",
       "  <tbody>\n",
       "    <tr>\n",
       "      <th>21</th>\n",
       "      <td>0</td>\n",
       "      <td>1</td>\n",
       "      <td>1</td>\n",
       "      <td>1</td>\n",
       "      <td>1</td>\n",
       "      <td>0</td>\n",
       "      <td>1</td>\n",
       "      <td>0</td>\n",
       "    </tr>\n",
       "    <tr>\n",
       "      <th>22</th>\n",
       "      <td>0</td>\n",
       "      <td>0</td>\n",
       "      <td>1</td>\n",
       "      <td>1</td>\n",
       "      <td>1</td>\n",
       "      <td>0</td>\n",
       "      <td>1</td>\n",
       "      <td>0</td>\n",
       "    </tr>\n",
       "    <tr>\n",
       "      <th>23</th>\n",
       "      <td>0</td>\n",
       "      <td>0</td>\n",
       "      <td>1</td>\n",
       "      <td>1</td>\n",
       "      <td>1</td>\n",
       "      <td>0</td>\n",
       "      <td>1</td>\n",
       "      <td>0</td>\n",
       "    </tr>\n",
       "    <tr>\n",
       "      <th>24</th>\n",
       "      <td>0</td>\n",
       "      <td>0</td>\n",
       "      <td>1</td>\n",
       "      <td>0</td>\n",
       "      <td>0</td>\n",
       "      <td>0</td>\n",
       "      <td>1</td>\n",
       "      <td>0</td>\n",
       "    </tr>\n",
       "    <tr>\n",
       "      <th>25</th>\n",
       "      <td>0</td>\n",
       "      <td>0</td>\n",
       "      <td>1</td>\n",
       "      <td>1</td>\n",
       "      <td>1</td>\n",
       "      <td>0</td>\n",
       "      <td>1</td>\n",
       "      <td>1</td>\n",
       "    </tr>\n",
       "    <tr>\n",
       "      <th>...</th>\n",
       "      <td>...</td>\n",
       "      <td>...</td>\n",
       "      <td>...</td>\n",
       "      <td>...</td>\n",
       "      <td>...</td>\n",
       "      <td>...</td>\n",
       "      <td>...</td>\n",
       "      <td>...</td>\n",
       "    </tr>\n",
       "    <tr>\n",
       "      <th>540</th>\n",
       "      <td>0</td>\n",
       "      <td>1</td>\n",
       "      <td>1</td>\n",
       "      <td>0</td>\n",
       "      <td>1</td>\n",
       "      <td>0</td>\n",
       "      <td>0</td>\n",
       "      <td>0</td>\n",
       "    </tr>\n",
       "    <tr>\n",
       "      <th>541</th>\n",
       "      <td>1</td>\n",
       "      <td>0</td>\n",
       "      <td>0</td>\n",
       "      <td>0</td>\n",
       "      <td>0</td>\n",
       "      <td>0</td>\n",
       "      <td>0</td>\n",
       "      <td>0</td>\n",
       "    </tr>\n",
       "    <tr>\n",
       "      <th>542</th>\n",
       "      <td>0</td>\n",
       "      <td>1</td>\n",
       "      <td>1</td>\n",
       "      <td>0</td>\n",
       "      <td>0</td>\n",
       "      <td>0</td>\n",
       "      <td>0</td>\n",
       "      <td>0</td>\n",
       "    </tr>\n",
       "    <tr>\n",
       "      <th>543</th>\n",
       "      <td>0</td>\n",
       "      <td>0</td>\n",
       "      <td>0</td>\n",
       "      <td>0</td>\n",
       "      <td>0</td>\n",
       "      <td>0</td>\n",
       "      <td>0</td>\n",
       "      <td>0</td>\n",
       "    </tr>\n",
       "    <tr>\n",
       "      <th>544</th>\n",
       "      <td>0</td>\n",
       "      <td>1</td>\n",
       "      <td>1</td>\n",
       "      <td>0</td>\n",
       "      <td>0</td>\n",
       "      <td>0</td>\n",
       "      <td>0</td>\n",
       "      <td>0</td>\n",
       "    </tr>\n",
       "  </tbody>\n",
       "</table>\n",
       "<p>506 rows × 8 columns</p>\n",
       "</div>"
      ],
      "text/plain": [
       "     furnishing status_semi-furnished  furnishing status_unfurnished  \\\n",
       "21                                  0                              1   \n",
       "22                                  0                              0   \n",
       "23                                  0                              0   \n",
       "24                                  0                              0   \n",
       "25                                  0                              0   \n",
       "..                                ...                            ...   \n",
       "540                                 0                              1   \n",
       "541                                 1                              0   \n",
       "542                                 0                              1   \n",
       "543                                 0                              0   \n",
       "544                                 0                              1   \n",
       "\n",
       "     mainroad_yes  guestroom_yes  basement_yes  hotwaterheating_yes  \\\n",
       "21              1              1             1                    0   \n",
       "22              1              1             1                    0   \n",
       "23              1              1             1                    0   \n",
       "24              1              0             0                    0   \n",
       "25              1              1             1                    0   \n",
       "..            ...            ...           ...                  ...   \n",
       "540             1              0             1                    0   \n",
       "541             0              0             0                    0   \n",
       "542             1              0             0                    0   \n",
       "543             0              0             0                    0   \n",
       "544             1              0             0                    0   \n",
       "\n",
       "     airconditioning_yes  prefarea_yes  \n",
       "21                     1             0  \n",
       "22                     1             0  \n",
       "23                     1             0  \n",
       "24                     1             0  \n",
       "25                     1             1  \n",
       "..                   ...           ...  \n",
       "540                    0             0  \n",
       "541                    0             0  \n",
       "542                    0             0  \n",
       "543                    0             0  \n",
       "544                    0             0  \n",
       "\n",
       "[506 rows x 8 columns]"
      ]
     },
     "execution_count": 21,
     "metadata": {},
     "output_type": "execute_result"
    }
   ],
   "source": [
    "cat_enc"
   ]
  },
  {
   "cell_type": "code",
   "execution_count": 22,
   "id": "348afb8c",
   "metadata": {},
   "outputs": [],
   "source": [
    "#Importing Knn and other required functions from sklearn for model fitting.\n",
    "from sklearn.model_selection import train_test_split\n",
    "from sklearn.neighbors import KNeighborsRegressor\n",
    "from sklearn.metrics import mean_absolute_percentage_error,mean_squared_error, r2_score, mean_absolute_percentage_error\n",
    "from sklearn.preprocessing import MinMaxScaler, StandardScaler"
   ]
  },
  {
   "cell_type": "code",
   "execution_count": 23,
   "id": "48e4e4db",
   "metadata": {},
   "outputs": [],
   "source": [
    "#Separating Features and Target variable and storing them in separate varuiables, x and y.\n",
    "x = df_final.drop('price', axis = 1)\n",
    "y = df_final['price']\n",
    "x_train, x_test, y_train, y_test = train_test_split(x,y,test_size = 0.3, random_state = 42)"
   ]
  },
  {
   "cell_type": "code",
   "execution_count": 24,
   "id": "dd8fe00c",
   "metadata": {},
   "outputs": [],
   "source": [
    "#Fitting the model using kNN.\n",
    "scaler = MinMaxScaler()\n",
    "scaler.fit(x_train)\n",
    "scaler.fit(x_train)\n",
    "x_train_scaled = scaler.transform(x_train)\n",
    "x_test_scaled = scaler.transform(x_test)"
   ]
  },
  {
   "cell_type": "code",
   "execution_count": 25,
   "id": "833913c8",
   "metadata": {
    "scrolled": false
   },
   "outputs": [
    {
     "data": {
      "text/html": [
       "<div>\n",
       "<style scoped>\n",
       "    .dataframe tbody tr th:only-of-type {\n",
       "        vertical-align: middle;\n",
       "    }\n",
       "\n",
       "    .dataframe tbody tr th {\n",
       "        vertical-align: top;\n",
       "    }\n",
       "\n",
       "    .dataframe thead th {\n",
       "        text-align: right;\n",
       "    }\n",
       "</style>\n",
       "<table border=\"1\" class=\"dataframe\">\n",
       "  <thead>\n",
       "    <tr style=\"text-align: right;\">\n",
       "      <th></th>\n",
       "      <th>K</th>\n",
       "      <th>Train R-squared</th>\n",
       "      <th>Train MAPE</th>\n",
       "      <th>Test MAPE</th>\n",
       "      <th>Train MSE</th>\n",
       "      <th>Test MSE</th>\n",
       "    </tr>\n",
       "  </thead>\n",
       "  <tbody>\n",
       "    <tr>\n",
       "      <th>0</th>\n",
       "      <td>1</td>\n",
       "      <td>0.996867</td>\n",
       "      <td>0.300263</td>\n",
       "      <td>21.058026</td>\n",
       "      <td>1.918889e+07</td>\n",
       "      <td>1.104697e+10</td>\n",
       "    </tr>\n",
       "    <tr>\n",
       "      <th>1</th>\n",
       "      <td>2</td>\n",
       "      <td>0.791683</td>\n",
       "      <td>11.381408</td>\n",
       "      <td>19.532692</td>\n",
       "      <td>1.275805e+09</td>\n",
       "      <td>8.791550e+09</td>\n",
       "    </tr>\n",
       "    <tr>\n",
       "      <th>2</th>\n",
       "      <td>3</td>\n",
       "      <td>0.714692</td>\n",
       "      <td>13.438259</td>\n",
       "      <td>18.829335</td>\n",
       "      <td>1.747328e+09</td>\n",
       "      <td>7.678247e+09</td>\n",
       "    </tr>\n",
       "    <tr>\n",
       "      <th>3</th>\n",
       "      <td>4</td>\n",
       "      <td>0.678098</td>\n",
       "      <td>14.120370</td>\n",
       "      <td>18.741459</td>\n",
       "      <td>1.971443e+09</td>\n",
       "      <td>7.666686e+09</td>\n",
       "    </tr>\n",
       "    <tr>\n",
       "      <th>4</th>\n",
       "      <td>5</td>\n",
       "      <td>0.651544</td>\n",
       "      <td>14.960128</td>\n",
       "      <td>18.570629</td>\n",
       "      <td>2.134069e+09</td>\n",
       "      <td>7.551796e+09</td>\n",
       "    </tr>\n",
       "    <tr>\n",
       "      <th>...</th>\n",
       "      <td>...</td>\n",
       "      <td>...</td>\n",
       "      <td>...</td>\n",
       "      <td>...</td>\n",
       "      <td>...</td>\n",
       "      <td>...</td>\n",
       "    </tr>\n",
       "    <tr>\n",
       "      <th>95</th>\n",
       "      <td>96</td>\n",
       "      <td>0.359504</td>\n",
       "      <td>19.123146</td>\n",
       "      <td>22.621309</td>\n",
       "      <td>3.922629e+09</td>\n",
       "      <td>1.144341e+10</td>\n",
       "    </tr>\n",
       "    <tr>\n",
       "      <th>96</th>\n",
       "      <td>97</td>\n",
       "      <td>0.357506</td>\n",
       "      <td>19.170060</td>\n",
       "      <td>22.710683</td>\n",
       "      <td>3.934865e+09</td>\n",
       "      <td>1.152379e+10</td>\n",
       "    </tr>\n",
       "    <tr>\n",
       "      <th>97</th>\n",
       "      <td>98</td>\n",
       "      <td>0.355706</td>\n",
       "      <td>19.223389</td>\n",
       "      <td>22.809349</td>\n",
       "      <td>3.945889e+09</td>\n",
       "      <td>1.159299e+10</td>\n",
       "    </tr>\n",
       "    <tr>\n",
       "      <th>98</th>\n",
       "      <td>99</td>\n",
       "      <td>0.354462</td>\n",
       "      <td>19.258164</td>\n",
       "      <td>22.906101</td>\n",
       "      <td>3.953505e+09</td>\n",
       "      <td>1.163414e+10</td>\n",
       "    </tr>\n",
       "    <tr>\n",
       "      <th>99</th>\n",
       "      <td>100</td>\n",
       "      <td>0.352570</td>\n",
       "      <td>19.299517</td>\n",
       "      <td>23.057113</td>\n",
       "      <td>3.965091e+09</td>\n",
       "      <td>1.171841e+10</td>\n",
       "    </tr>\n",
       "  </tbody>\n",
       "</table>\n",
       "<p>100 rows × 6 columns</p>\n",
       "</div>"
      ],
      "text/plain": [
       "      K  Train R-squared  Train MAPE  Test MAPE     Train MSE      Test MSE\n",
       "0     1         0.996867    0.300263  21.058026  1.918889e+07  1.104697e+10\n",
       "1     2         0.791683   11.381408  19.532692  1.275805e+09  8.791550e+09\n",
       "2     3         0.714692   13.438259  18.829335  1.747328e+09  7.678247e+09\n",
       "3     4         0.678098   14.120370  18.741459  1.971443e+09  7.666686e+09\n",
       "4     5         0.651544   14.960128  18.570629  2.134069e+09  7.551796e+09\n",
       "..  ...              ...         ...        ...           ...           ...\n",
       "95   96         0.359504   19.123146  22.621309  3.922629e+09  1.144341e+10\n",
       "96   97         0.357506   19.170060  22.710683  3.934865e+09  1.152379e+10\n",
       "97   98         0.355706   19.223389  22.809349  3.945889e+09  1.159299e+10\n",
       "98   99         0.354462   19.258164  22.906101  3.953505e+09  1.163414e+10\n",
       "99  100         0.352570   19.299517  23.057113  3.965091e+09  1.171841e+10\n",
       "\n",
       "[100 rows x 6 columns]"
      ]
     },
     "execution_count": 25,
     "metadata": {},
     "output_type": "execute_result"
    }
   ],
   "source": [
    "k_values = np.linspace(1,100,100) #Initializing a array with k values from 1 to 100\n",
    "k_value = []\n",
    "for i in k_values:\n",
    "    k_value.append(int(i))\n",
    "train_r_squared = []\n",
    "train_mape = []\n",
    "test_mape = []\n",
    "train_mse = []\n",
    "test_mse = []\n",
    "for k in k_value: #Looping the evaluation metrics for different k values as stored in the above array.\n",
    "    knn_regressor = KNeighborsRegressor(n_neighbors=k)\n",
    "    knn_regressor.fit(x_train_scaled, y_train)\n",
    "    y_train_pred = knn_regressor.predict(x_train_scaled)\n",
    "    y_test_pred = knn_regressor.predict(x_test_scaled)\n",
    "    train_r_squared.append(r2_score(y_train, y_train_pred))\n",
    "    train_mape.append(np.mean(np.abs((y_train - y_train_pred) / y_train)) * 100)\n",
    "    test_mape.append(np.mean(np.abs((y_test - y_test_pred) / y_test)) * 100)\n",
    "    train_mse.append(np.mean(np.abs((y_train - y_train_pred)**2 / len(y_train))))\n",
    "    test_mse.append(np.mean(np.abs((y_test - y_test_pred)**2 / len(y_test))))\n",
    "evaluation_df = pd.DataFrame({ #Storing the results in a DataFrame\n",
    "    'K': k_value,\n",
    "    'Train R-squared': train_r_squared,\n",
    "    'Train MAPE': train_mape,\n",
    "    'Test MAPE': test_mape,\n",
    "    'Train MSE': train_mse,\n",
    "    'Test MSE': test_mse,\n",
    "})\n",
    "evaluation_df"
   ]
  },
  {
   "cell_type": "code",
   "execution_count": 27,
   "id": "32af84bd",
   "metadata": {},
   "outputs": [
    {
     "data": {
      "text/plain": [
       "<Axes: xlabel='K', ylabel='Train MAPE'>"
      ]
     },
     "execution_count": 27,
     "metadata": {},
     "output_type": "execute_result"
    },
    {
     "data": {
      "image/png": "[encoded data removed]",
      "text/plain": [
       "<Figure size 640x480 with 1 Axes>"
      ]
     },
     "metadata": {},
     "output_type": "display_data"
    }
   ],
   "source": [
    "sns.lineplot(data = evaluation_df, x = 'K', y = 'Train MAPE')"
   ]
  },
  {
   "cell_type": "raw",
   "id": "79fcb2b2",
   "metadata": {},
   "source": [
    "The best k value can be selected from the above graph where the curve seems to start becoming a plateau."
   ]
  },
  {
   "cell_type": "markdown",
   "id": "e48f5c7b",
   "metadata": {},
   "source": [
    "# Decision Tree Regressor"
   ]
  },
  {
   "cell_type": "code",
   "execution_count": 35,
   "id": "d0944f39",
   "metadata": {
    "scrolled": false
   },
   "outputs": [
    {
     "data": {
      "text/html": [
       "<div>\n",
       "<style scoped>\n",
       "    .dataframe tbody tr th:only-of-type {\n",
       "        vertical-align: middle;\n",
       "    }\n",
       "\n",
       "    .dataframe tbody tr th {\n",
       "        vertical-align: top;\n",
       "    }\n",
       "\n",
       "    .dataframe thead th {\n",
       "        text-align: right;\n",
       "    }\n",
       "</style>\n",
       "<table border=\"1\" class=\"dataframe\">\n",
       "  <thead>\n",
       "    <tr style=\"text-align: right;\">\n",
       "      <th></th>\n",
       "      <th>Max Depth</th>\n",
       "      <th>Train MAPE</th>\n",
       "      <th>Test MAPE</th>\n",
       "      <th>Train MSE</th>\n",
       "      <th>Test MSE</th>\n",
       "    </tr>\n",
       "  </thead>\n",
       "  <tbody>\n",
       "    <tr>\n",
       "      <th>0</th>\n",
       "      <td>1</td>\n",
       "      <td>7.835669</td>\n",
       "      <td>9.911237</td>\n",
       "      <td>4.193088e+09</td>\n",
       "      <td>1.349142e+10</td>\n",
       "    </tr>\n",
       "    <tr>\n",
       "      <th>1</th>\n",
       "      <td>2</td>\n",
       "      <td>6.205423</td>\n",
       "      <td>8.573102</td>\n",
       "      <td>3.294639e+09</td>\n",
       "      <td>1.033305e+10</td>\n",
       "    </tr>\n",
       "    <tr>\n",
       "      <th>2</th>\n",
       "      <td>3</td>\n",
       "      <td>5.205315</td>\n",
       "      <td>6.972289</td>\n",
       "      <td>2.781299e+09</td>\n",
       "      <td>9.270108e+09</td>\n",
       "    </tr>\n",
       "    <tr>\n",
       "      <th>3</th>\n",
       "      <td>4</td>\n",
       "      <td>4.087142</td>\n",
       "      <td>5.940682</td>\n",
       "      <td>2.193374e+09</td>\n",
       "      <td>7.290955e+09</td>\n",
       "    </tr>\n",
       "    <tr>\n",
       "      <th>4</th>\n",
       "      <td>5</td>\n",
       "      <td>3.275135</td>\n",
       "      <td>4.754136</td>\n",
       "      <td>1.712631e+09</td>\n",
       "      <td>7.640710e+09</td>\n",
       "    </tr>\n",
       "    <tr>\n",
       "      <th>5</th>\n",
       "      <td>6</td>\n",
       "      <td>2.486489</td>\n",
       "      <td>5.579180</td>\n",
       "      <td>1.228515e+09</td>\n",
       "      <td>7.451376e+09</td>\n",
       "    </tr>\n",
       "    <tr>\n",
       "      <th>6</th>\n",
       "      <td>7</td>\n",
       "      <td>1.979263</td>\n",
       "      <td>4.981056</td>\n",
       "      <td>9.194398e+08</td>\n",
       "      <td>8.253755e+09</td>\n",
       "    </tr>\n",
       "    <tr>\n",
       "      <th>7</th>\n",
       "      <td>8</td>\n",
       "      <td>1.515378</td>\n",
       "      <td>4.599523</td>\n",
       "      <td>6.995048e+08</td>\n",
       "      <td>7.874053e+09</td>\n",
       "    </tr>\n",
       "    <tr>\n",
       "      <th>8</th>\n",
       "      <td>9</td>\n",
       "      <td>0.994834</td>\n",
       "      <td>3.850033</td>\n",
       "      <td>4.668772e+08</td>\n",
       "      <td>7.934342e+09</td>\n",
       "    </tr>\n",
       "    <tr>\n",
       "      <th>9</th>\n",
       "      <td>10</td>\n",
       "      <td>0.723225</td>\n",
       "      <td>3.483982</td>\n",
       "      <td>3.473348e+08</td>\n",
       "      <td>8.201646e+09</td>\n",
       "    </tr>\n",
       "  </tbody>\n",
       "</table>\n",
       "</div>"
      ],
      "text/plain": [
       "   Max Depth  Train MAPE  Test MAPE     Train MSE      Test MSE\n",
       "0          1    7.835669   9.911237  4.193088e+09  1.349142e+10\n",
       "1          2    6.205423   8.573102  3.294639e+09  1.033305e+10\n",
       "2          3    5.205315   6.972289  2.781299e+09  9.270108e+09\n",
       "3          4    4.087142   5.940682  2.193374e+09  7.290955e+09\n",
       "4          5    3.275135   4.754136  1.712631e+09  7.640710e+09\n",
       "5          6    2.486489   5.579180  1.228515e+09  7.451376e+09\n",
       "6          7    1.979263   4.981056  9.194398e+08  8.253755e+09\n",
       "7          8    1.515378   4.599523  6.995048e+08  7.874053e+09\n",
       "8          9    0.994834   3.850033  4.668772e+08  7.934342e+09\n",
       "9         10    0.723225   3.483982  3.473348e+08  8.201646e+09"
      ]
     },
     "execution_count": 35,
     "metadata": {},
     "output_type": "execute_result"
    }
   ],
   "source": [
    "from sklearn.tree import DecisionTreeRegressor, plot_tree #Importing DT algorithm from sklearn\n",
    "train_mape = []\n",
    "test_mape = []\n",
    "train_mse = []\n",
    "test_mse = []\n",
    "mxdepth = [1,2,3,4,5,6,7,8,9,10] #Storing different max-depth values in an list to parse later.\n",
    "for m in mxdepth:\n",
    "    dtr = DecisionTreeRegressor(max_depth = m, random_state=42)\n",
    "    dtr.fit(x_train, y_train)\n",
    "    y_train_pred = dtr.fit(x_train, y_train).predict(x_train)\n",
    "    y_test_pred = dtr.fit(x_train, y_train).predict(x_test)\n",
    "    train_mape.append(np.abs(np.mean((y_train_pred-y_train)/y_train))*100)\n",
    "    test_mape.append(np.abs(np.mean((y_test_pred-y_test)/y_test))*100)\n",
    "    train_mse.append(np.mean(np.abs((y_train - y_train_pred)**2 / len(y_train))))\n",
    "    test_mse.append(np.mean(np.abs((y_test - y_test_pred)**2 / len(y_test))))\n",
    "dtr_result = pd.DataFrame({\n",
    "    'Max Depth': mxdepth,\n",
    "    'Train MAPE': train_mape,\n",
    "    'Test MAPE': test_mape,\n",
    "    'Train MSE': train_mse,\n",
    "    'Test MSE': test_mse,\n",
    "})\n",
    "dtr_result"
   ]
  },
  {
   "cell_type": "code",
   "execution_count": null,
   "id": "73a2abf9",
   "metadata": {},
   "outputs": [],
   "source": [
    "#To understand the impact of dropping features on the Train and Test MAPE, MSE. I decided to drop a prominent feature 'Area'."
   ]
  },
  {
   "cell_type": "markdown",
   "id": "301b60e6",
   "metadata": {},
   "source": [
    "# Dropping one feature(area)"
   ]
  },
  {
   "cell_type": "code",
   "execution_count": 30,
   "id": "7e49e020",
   "metadata": {},
   "outputs": [],
   "source": [
    "scaler = MinMaxScaler()\n",
    "scaler.fit(x_train.drop(['area'], axis =1))\n",
    "scaler.fit(x_train.drop(['area'], axis =1))\n",
    "x_train_scaled = scaler.transform(x_train.drop(['area'], axis =1))\n",
    "x_test_scaled = scaler.transform(x_test.drop(['area'], axis =1))"
   ]
  },
  {
   "cell_type": "code",
   "execution_count": 37,
   "id": "176d7332",
   "metadata": {
    "scrolled": false
   },
   "outputs": [
    {
     "data": {
      "text/html": [
       "<div>\n",
       "<style scoped>\n",
       "    .dataframe tbody tr th:only-of-type {\n",
       "        vertical-align: middle;\n",
       "    }\n",
       "\n",
       "    .dataframe tbody tr th {\n",
       "        vertical-align: top;\n",
       "    }\n",
       "\n",
       "    .dataframe thead th {\n",
       "        text-align: right;\n",
       "    }\n",
       "</style>\n",
       "<table border=\"1\" class=\"dataframe\">\n",
       "  <thead>\n",
       "    <tr style=\"text-align: right;\">\n",
       "      <th></th>\n",
       "      <th>K</th>\n",
       "      <th>Train R-squared</th>\n",
       "      <th>Train MAPE</th>\n",
       "      <th>Test MAPE</th>\n",
       "      <th>Train MSE</th>\n",
       "      <th>Test MSE</th>\n",
       "    </tr>\n",
       "  </thead>\n",
       "  <tbody>\n",
       "    <tr>\n",
       "      <th>0</th>\n",
       "      <td>1</td>\n",
       "      <td>0.850789</td>\n",
       "      <td>6.998821</td>\n",
       "      <td>23.039953</td>\n",
       "      <td>9.138241e+08</td>\n",
       "      <td>1.084062e+10</td>\n",
       "    </tr>\n",
       "    <tr>\n",
       "      <th>1</th>\n",
       "      <td>3</td>\n",
       "      <td>0.687260</td>\n",
       "      <td>14.328748</td>\n",
       "      <td>18.986490</td>\n",
       "      <td>1.915332e+09</td>\n",
       "      <td>8.875301e+09</td>\n",
       "    </tr>\n",
       "    <tr>\n",
       "      <th>2</th>\n",
       "      <td>5</td>\n",
       "      <td>0.599006</td>\n",
       "      <td>15.793414</td>\n",
       "      <td>18.888445</td>\n",
       "      <td>2.455828e+09</td>\n",
       "      <td>8.302005e+09</td>\n",
       "    </tr>\n",
       "    <tr>\n",
       "      <th>3</th>\n",
       "      <td>7</td>\n",
       "      <td>0.591367</td>\n",
       "      <td>15.865814</td>\n",
       "      <td>18.911575</td>\n",
       "      <td>2.502613e+09</td>\n",
       "      <td>8.345440e+09</td>\n",
       "    </tr>\n",
       "    <tr>\n",
       "      <th>4</th>\n",
       "      <td>9</td>\n",
       "      <td>0.572322</td>\n",
       "      <td>16.427483</td>\n",
       "      <td>18.551353</td>\n",
       "      <td>2.619255e+09</td>\n",
       "      <td>7.764282e+09</td>\n",
       "    </tr>\n",
       "    <tr>\n",
       "      <th>5</th>\n",
       "      <td>11</td>\n",
       "      <td>0.546950</td>\n",
       "      <td>16.897390</td>\n",
       "      <td>18.836895</td>\n",
       "      <td>2.774642e+09</td>\n",
       "      <td>7.913085e+09</td>\n",
       "    </tr>\n",
       "    <tr>\n",
       "      <th>6</th>\n",
       "      <td>13</td>\n",
       "      <td>0.525226</td>\n",
       "      <td>17.125619</td>\n",
       "      <td>19.265328</td>\n",
       "      <td>2.907687e+09</td>\n",
       "      <td>8.070130e+09</td>\n",
       "    </tr>\n",
       "    <tr>\n",
       "      <th>7</th>\n",
       "      <td>15</td>\n",
       "      <td>0.517272</td>\n",
       "      <td>17.308807</td>\n",
       "      <td>19.744753</td>\n",
       "      <td>2.956398e+09</td>\n",
       "      <td>8.515902e+09</td>\n",
       "    </tr>\n",
       "  </tbody>\n",
       "</table>\n",
       "</div>"
      ],
      "text/plain": [
       "    K  Train R-squared  Train MAPE  Test MAPE     Train MSE      Test MSE\n",
       "0   1         0.850789    6.998821  23.039953  9.138241e+08  1.084062e+10\n",
       "1   3         0.687260   14.328748  18.986490  1.915332e+09  8.875301e+09\n",
       "2   5         0.599006   15.793414  18.888445  2.455828e+09  8.302005e+09\n",
       "3   7         0.591367   15.865814  18.911575  2.502613e+09  8.345440e+09\n",
       "4   9         0.572322   16.427483  18.551353  2.619255e+09  7.764282e+09\n",
       "5  11         0.546950   16.897390  18.836895  2.774642e+09  7.913085e+09\n",
       "6  13         0.525226   17.125619  19.265328  2.907687e+09  8.070130e+09\n",
       "7  15         0.517272   17.308807  19.744753  2.956398e+09  8.515902e+09"
      ]
     },
     "execution_count": 37,
     "metadata": {},
     "output_type": "execute_result"
    }
   ],
   "source": [
    "k_values = [1,3, 5, 7, 9, 11, 13, 15]\n",
    "train_r_squared = []\n",
    "train_mape = []\n",
    "test_mape = []\n",
    "train_mse = []\n",
    "test_mse = []\n",
    "bias = []\n",
    "var = []\n",
    "for k in k_values:\n",
    "    knn_regressor = KNeighborsRegressor(n_neighbors=k)\n",
    "    knn_regressor.fit(x_train_scaled, y_train)\n",
    "    y_train_pred = knn_regressor.predict(x_train_scaled)\n",
    "    y_test_pred = knn_regressor.predict(x_test_scaled)\n",
    "    train_r_squared.append(r2_score(y_train, y_train_pred))\n",
    "    train_mape.append(np.mean(np.abs((y_train - y_train_pred) / y_train)) * 100)\n",
    "    test_mape.append(np.mean(np.abs((y_test - y_test_pred) / y_test)) * 100)\n",
    "    train_mse.append(np.mean(np.abs((y_train - y_train_pred)**2 / len(y_train))))\n",
    "    test_mse.append(np.mean(np.abs((y_test - y_test_pred)**2 / len(y_test))))\n",
    "evaluation_df = pd.DataFrame({\n",
    "    'K': k_values,\n",
    "    'Train R-squared': train_r_squared,\n",
    "    'Train MAPE': train_mape,\n",
    "    'Test MAPE': test_mape,\n",
    "    'Train MSE': train_mse,\n",
    "    'Test MSE': test_mse,\n",
    "})\n",
    "evaluation_df"
   ]
  },
  {
   "cell_type": "raw",
   "id": "cde7eb8a",
   "metadata": {},
   "source": [
    "As we can see the train as well as test Errors have increased slighthly for lower all value of k. This can mean that the feature\n",
    "dropped was valuable for the model performance. Moreover, the increase in simplicity of the model (bias) can be accounted for the decrease in overall performance of the model."
   ]
  },
  {
   "cell_type": "code",
   "execution_count": 33,
   "id": "0e3c722b",
   "metadata": {},
   "outputs": [
    {
     "data": {
      "text/html": [
       "<div>\n",
       "<style scoped>\n",
       "    .dataframe tbody tr th:only-of-type {\n",
       "        vertical-align: middle;\n",
       "    }\n",
       "\n",
       "    .dataframe tbody tr th {\n",
       "        vertical-align: top;\n",
       "    }\n",
       "\n",
       "    .dataframe thead th {\n",
       "        text-align: right;\n",
       "    }\n",
       "</style>\n",
       "<table border=\"1\" class=\"dataframe\">\n",
       "  <thead>\n",
       "    <tr style=\"text-align: right;\">\n",
       "      <th></th>\n",
       "      <th>Max Depth</th>\n",
       "      <th>Train MAPE</th>\n",
       "      <th>Test MAPE</th>\n",
       "      <th>Train MSE</th>\n",
       "      <th>Test MSE</th>\n",
       "      <th>test-train mape</th>\n",
       "      <th>test-train mse</th>\n",
       "    </tr>\n",
       "  </thead>\n",
       "  <tbody>\n",
       "    <tr>\n",
       "      <th>0</th>\n",
       "      <td>1</td>\n",
       "      <td>9.189343</td>\n",
       "      <td>10.130624</td>\n",
       "      <td>4.915776e+09</td>\n",
       "      <td>1.351257e+10</td>\n",
       "      <td>0.941281</td>\n",
       "      <td>8.596792e+09</td>\n",
       "    </tr>\n",
       "    <tr>\n",
       "      <th>1</th>\n",
       "      <td>2</td>\n",
       "      <td>7.665901</td>\n",
       "      <td>8.673682</td>\n",
       "      <td>4.009573e+09</td>\n",
       "      <td>9.897054e+09</td>\n",
       "      <td>1.007781</td>\n",
       "      <td>5.887481e+09</td>\n",
       "    </tr>\n",
       "    <tr>\n",
       "      <th>2</th>\n",
       "      <td>3</td>\n",
       "      <td>6.427881</td>\n",
       "      <td>6.731874</td>\n",
       "      <td>3.420825e+09</td>\n",
       "      <td>8.664386e+09</td>\n",
       "      <td>0.303993</td>\n",
       "      <td>5.243561e+09</td>\n",
       "    </tr>\n",
       "    <tr>\n",
       "      <th>3</th>\n",
       "      <td>4</td>\n",
       "      <td>5.200970</td>\n",
       "      <td>5.391532</td>\n",
       "      <td>2.781346e+09</td>\n",
       "      <td>8.044885e+09</td>\n",
       "      <td>0.190562</td>\n",
       "      <td>5.263538e+09</td>\n",
       "    </tr>\n",
       "    <tr>\n",
       "      <th>4</th>\n",
       "      <td>5</td>\n",
       "      <td>4.123866</td>\n",
       "      <td>3.145196</td>\n",
       "      <td>2.158043e+09</td>\n",
       "      <td>8.540211e+09</td>\n",
       "      <td>-0.978670</td>\n",
       "      <td>6.382169e+09</td>\n",
       "    </tr>\n",
       "    <tr>\n",
       "      <th>5</th>\n",
       "      <td>6</td>\n",
       "      <td>3.283714</td>\n",
       "      <td>2.744733</td>\n",
       "      <td>1.647449e+09</td>\n",
       "      <td>8.715739e+09</td>\n",
       "      <td>-0.538982</td>\n",
       "      <td>7.068291e+09</td>\n",
       "    </tr>\n",
       "    <tr>\n",
       "      <th>6</th>\n",
       "      <td>7</td>\n",
       "      <td>2.632619</td>\n",
       "      <td>0.524671</td>\n",
       "      <td>1.216381e+09</td>\n",
       "      <td>9.537917e+09</td>\n",
       "      <td>-2.107948</td>\n",
       "      <td>8.321536e+09</td>\n",
       "    </tr>\n",
       "    <tr>\n",
       "      <th>7</th>\n",
       "      <td>8</td>\n",
       "      <td>2.040875</td>\n",
       "      <td>0.601095</td>\n",
       "      <td>8.401438e+08</td>\n",
       "      <td>1.030667e+10</td>\n",
       "      <td>-1.439780</td>\n",
       "      <td>9.466524e+09</td>\n",
       "    </tr>\n",
       "    <tr>\n",
       "      <th>8</th>\n",
       "      <td>9</td>\n",
       "      <td>1.710761</td>\n",
       "      <td>0.439636</td>\n",
       "      <td>6.379574e+08</td>\n",
       "      <td>1.079516e+10</td>\n",
       "      <td>-1.271124</td>\n",
       "      <td>1.015721e+10</td>\n",
       "    </tr>\n",
       "    <tr>\n",
       "      <th>9</th>\n",
       "      <td>10</td>\n",
       "      <td>1.475220</td>\n",
       "      <td>0.291664</td>\n",
       "      <td>5.084552e+08</td>\n",
       "      <td>9.779681e+09</td>\n",
       "      <td>-1.183556</td>\n",
       "      <td>9.271226e+09</td>\n",
       "    </tr>\n",
       "  </tbody>\n",
       "</table>\n",
       "</div>"
      ],
      "text/plain": [
       "   Max Depth  Train MAPE  Test MAPE     Train MSE      Test MSE  \\\n",
       "0          1    9.189343  10.130624  4.915776e+09  1.351257e+10   \n",
       "1          2    7.665901   8.673682  4.009573e+09  9.897054e+09   \n",
       "2          3    6.427881   6.731874  3.420825e+09  8.664386e+09   \n",
       "3          4    5.200970   5.391532  2.781346e+09  8.044885e+09   \n",
       "4          5    4.123866   3.145196  2.158043e+09  8.540211e+09   \n",
       "5          6    3.283714   2.744733  1.647449e+09  8.715739e+09   \n",
       "6          7    2.632619   0.524671  1.216381e+09  9.537917e+09   \n",
       "7          8    2.040875   0.601095  8.401438e+08  1.030667e+10   \n",
       "8          9    1.710761   0.439636  6.379574e+08  1.079516e+10   \n",
       "9         10    1.475220   0.291664  5.084552e+08  9.779681e+09   \n",
       "\n",
       "   test-train mape  test-train mse  \n",
       "0         0.941281    8.596792e+09  \n",
       "1         1.007781    5.887481e+09  \n",
       "2         0.303993    5.243561e+09  \n",
       "3         0.190562    5.263538e+09  \n",
       "4        -0.978670    6.382169e+09  \n",
       "5        -0.538982    7.068291e+09  \n",
       "6        -2.107948    8.321536e+09  \n",
       "7        -1.439780    9.466524e+09  \n",
       "8        -1.271124    1.015721e+10  \n",
       "9        -1.183556    9.271226e+09  "
      ]
     },
     "execution_count": 33,
     "metadata": {},
     "output_type": "execute_result"
    }
   ],
   "source": [
    "from sklearn.tree import DecisionTreeRegressor, plot_tree\n",
    "train_mape = []\n",
    "test_mape = []\n",
    "train_mse = []\n",
    "test_mse = []\n",
    "mxdepth = [1,2,3,4,5,6,7,8,9,10]\n",
    "for m in mxdepth:\n",
    "    dtr = DecisionTreeRegressor(max_depth = m, random_state=42)\n",
    "    dtr.fit(x_train_scaled, y_train)\n",
    "    y_train_pred = dtr.fit(x_train_scaled, y_train).predict(x_train_scaled)\n",
    "    y_test_pred = dtr.fit(x_train_scaled, y_train).predict(x_test_scaled)\n",
    "    train_mape.append(np.abs(np.mean((y_train_pred-y_train)/y_train))*100)\n",
    "    test_mape.append(np.abs(np.mean((y_test_pred-y_test)/y_test))*100)\n",
    "    train_mse.append(np.mean(np.abs((y_train - y_train_pred)**2 / len(y_train))))\n",
    "    test_mse.append(np.mean(np.abs((y_test - y_test_pred)**2 / len(y_test))))\n",
    "dtr_result = pd.DataFrame({\n",
    "    'Max Depth': mxdepth,\n",
    "    'Train MAPE': train_mape,\n",
    "    'Test MAPE': test_mape,\n",
    "    'Train MSE': train_mse,\n",
    "    'Test MSE': test_mse,\n",
    "    'test-train mape': np.array(test_mape)-np.array(train_mape),\n",
    "    'test-train mse': np.array(test_mse) - np.array(train_mse)\n",
    "})\n",
    "dtr_result"
   ]
  },
  {
   "cell_type": "raw",
   "id": "d6a8186b",
   "metadata": {},
   "source": [
    "We can come to the same conclusion for Decision Tree that we drew for kNN. "
   ]
  }
 ],
 "metadata": {
  "kernelspec": {
   "display_name": "Python 3 (ipykernel)",
   "language": "python",
   "name": "python3"
  },
  "language_info": {
   "codemirror_mode": {
    "name": "ipython",
    "version": 3
   },
   "file_extension": ".py",
   "mimetype": "text/x-python",
   "name": "python",
   "nbconvert_exporter": "python",
   "pygments_lexer": "ipython3",
   "version": "3.11.5"
  }
 },
 "nbformat": 4,
 "nbformat_minor": 5
}
